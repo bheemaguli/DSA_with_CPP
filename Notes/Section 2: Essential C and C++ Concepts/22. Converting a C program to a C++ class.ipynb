{
 "cells": [
  {
   "cell_type": "markdown",
   "metadata": {},
   "source": [
    "```c\n",
    "struct Rectangle{\n",
    "    int length, breadth;\n",
    "};\n",
    "\n",
    "// Accessing value declared in main \n",
    "void initialize(struct Rectangle *r, int l, int b){\n",
    "    r->length = l;\n",
    "    r->breadth = b;\n",
    "}\n",
    "\n",
    "// Creating local copy of value passed from main\n",
    "int area(struct Rectangle r){\n",
    "    return r.length*r.breadth;\n",
    "}\n",
    "\n",
    "// Accessing value declared in main\n",
    "void changeLength(struct Rectangle *r, int l){\n",
    "    r->length = l;\n",
    "}\n",
    "\n",
    "// Everythong is processed with help of function in main\n",
    "int main(){\n",
    "    struct Rectangle r;\n",
    "    initialize(&r, 10, 5);\n",
    "    area(r);\n",
    "    changeLength(&r, 20);\n",
    "}\n",
    "```\n",
    "\n",
    "<br>"
   ]
  },
  {
   "cell_type": "markdown",
   "metadata": {},
   "source": [
    "### is converted to C++ as"
   ]
  },
  {
   "cell_type": "markdown",
   "metadata": {},
   "source": [
    "```cpp\n",
    "class Rectangle{\n",
    "    private:\n",
    "        int length, breadth;\n",
    "\n",
    "    public:\n",
    "        // Constructor \n",
    "        Rectangle(int l, int b){\n",
    "            length = l;\n",
    "            breadth = b;\n",
    "        }\n",
    "\n",
    "        // functions inside class\n",
    "        int area(){\n",
    "            return length*breadth;\n",
    "        }\n",
    "\n",
    "        void changeLength(int l){\n",
    "            length = l;\n",
    "        }\n",
    "};\n",
    "\n",
    "// Everything is processed with help of function in main\n",
    "int main(){\n",
    "    Rectangle r(10,5);\n",
    "    cout<<r.area()<<endl;\n",
    "    r.changeLength(20);\n",
    "    cout<<r.area()<<endl;\n",
    "}\n",
    "```"
   ]
  }
 ],
 "metadata": {
  "language_info": {
   "name": "python"
  },
  "orig_nbformat": 4
 },
 "nbformat": 4,
 "nbformat_minor": 2
}
