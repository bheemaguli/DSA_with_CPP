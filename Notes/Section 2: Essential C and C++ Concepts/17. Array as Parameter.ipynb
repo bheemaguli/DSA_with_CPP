{
 "cells": [
  {
   "cell_type": "markdown",
   "metadata": {},
   "source": [
    "We pass array to functions by address where the passed instance is similar to pointer to the Array's start.\n",
    "\n",
    "```c\n",
    "void fun(int A[], int n){\n",
    "    for(int i = 0; i<n; i++)\n",
    "        printf(\"%d\", A[i]);\n",
    "}\n",
    "```\n",
    "OR\n",
    "\n",
    "We can pass array as parameter by below method:\n",
    "\n",
    "```c\n",
    "void fun(int *A], int n){\n",
    "    for(int i = 0; i<n; i++)\n",
    "        printf(\"%d\", A[i]);\n",
    "}\n",
    "```\n",
    "The changes done to array will be reflected in the main also.\n",
    "\n",
    "<br>"
   ]
  },
  {
   "cell_type": "markdown",
   "metadata": {},
   "source": [
    "To return array from function, we'll use below method:\n",
    "\n",
    "```c\n",
    "int * func(int n){\n",
    "    int *p;\n",
    "    p = (int *)malloc(n*sizeof(int));\n",
    "    \n",
    "    return p;\n",
    "}\n",
    "\n",
    "int main(){\n",
    "    innt *A;\n",
    "    A = func(5);\n",
    "}\n",
    "```"
   ]
  }
 ],
 "metadata": {
  "language_info": {
   "name": "python"
  },
  "orig_nbformat": 4
 },
 "nbformat": 4,
 "nbformat_minor": 2
}
