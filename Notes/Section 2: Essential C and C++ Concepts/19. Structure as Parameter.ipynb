{
 "cells": [
  {
   "cell_type": "markdown",
   "metadata": {},
   "source": [
    "Declare structure\n",
    "\n",
    "```c\n",
    "struct Rectangle{\n",
    "    int legth;\n",
    "    int breadth;\n",
    "};\n",
    "```\n"
   ]
  },
  {
   "cell_type": "markdown",
   "metadata": {},
   "source": [
    "#### Call by Value\n",
    "\n",
    "```c\n",
    "int area(struct Rectangle r1){\n",
    "    return r1.length*r1*breadth;\n",
    "}\n",
    "\n",
    "int main(){\n",
    "    struct Rectangle r={10,5};\n",
    "    printf(\"Area is %d\", area(r));\n",
    "}\n",
    "```\n",
    "\n",
    "Here, changes in value will not get reflected in main function."
   ]
  },
  {
   "cell_type": "markdown",
   "metadata": {},
   "source": [
    "#### Call by Reference\n",
    "\n",
    "Add `&` for function to pass as reference.\n",
    "\n",
    "```c\n",
    "int area(struct Rectangle &r1){\n",
    "    return r1.length*r1*breadth;\n",
    "}\n",
    "\n",
    "int main(){\n",
    "    struct Rectangle r={10,5};\n",
    "    printf(\"Area is %d\", area(r));\n",
    "}\n",
    "```\n",
    "\n",
    "Here, changes in value will get reflected in main function. Only **&** is modified to function parameter passing"
   ]
  },
  {
   "cell_type": "markdown",
   "metadata": {},
   "source": [
    "#### Call by Address\n",
    "\n",
    "\n",
    "```c\n",
    "int changeLength(struct Rectangle *p, int l){\n",
    "    p->length=l\n",
    "}\n",
    "\n",
    "int main(){\n",
    "    struct Rectangle r={10,5};\n",
    "    changeLength(&r, 20);\n",
    "    printf(\"Area is %d\", area(r));\n",
    "}\n",
    "```\n",
    "\n",
    "Here, changes in value will get reflected in main function with help of pointer.\n",
    "\n",
    "<br><br>"
   ]
  },
  {
   "cell_type": "markdown",
   "metadata": {},
   "source": [
    "Note: Array **cannot be** called by Value. But, struct **can be** passed by value even if it has array.\n",
    "\n",
    "```c\n",
    "struct Test{\n",
    "    int A[5];\n",
    "    int n;\n",
    "}\n",
    "\n",
    "void fun(struct Test t1){\n",
    "    t1.A[0] = 100;\n",
    "}\n",
    "\n",
    "int main(){\n",
    "    struct Test t={{2,4,6,8,10}, 5}\n",
    "    fun(t)\n",
    "}\n",
    "```\n",
    "\n",
    "Here, changes in function will not get reflected in main()."
   ]
  }
 ],
 "metadata": {
  "language_info": {
   "name": "python"
  },
  "orig_nbformat": 4
 },
 "nbformat": 4,
 "nbformat_minor": 2
}
