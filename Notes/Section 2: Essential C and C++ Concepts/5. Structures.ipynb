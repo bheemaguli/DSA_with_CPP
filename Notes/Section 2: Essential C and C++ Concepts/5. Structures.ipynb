{
 "cells": [
  {
   "cell_type": "markdown",
   "metadata": {},
   "source": [
    "#### What is Structure?\n",
    "**Ans:** A struct is a composite data type declaration that defines a physically grouped list of variables under one name in a block of memory, allowing the different variables to be accessed via a single pointer or by the struct declared name which returns the same address."
   ]
  },
  {
   "cell_type": "markdown",
   "metadata": {},
   "source": []
  },
  {
   "cell_type": "markdown",
   "metadata": {},
   "source": []
  },
  {
   "cell_type": "markdown",
   "metadata": {},
   "source": [
    "```c\n",
    "struct Rectange{\n",
    "    int length;\n",
    "    int breadth\n",
    "}\n",
    "\n",
    "int main(){\n",
    "    struct Rectangle r;  //Declaration\n",
    "    // r will occupy 2*sizeof(int) after the above initialization\n",
    "\n",
    "    struct Rectangle r = {5,10}; // Declaration and initialization\n",
    "\n",
    "    // to access value of structure,\n",
    "    r.length    = 15;\n",
    "    r.breadth   = 10;\n",
    "    printf(\"%d is the area of rectangle with l = %d and b = %d\",r.length*r.breadth, r.length, r.breadth);\n",
    "}\n",
    "```"
   ]
  },
  {
   "cell_type": "markdown",
   "metadata": {},
   "source": [
    "* Complex No., as we know, is a + ib\n",
    "We can create structure as\n",
    "```c\n",
    "struct Complex{\n",
    "    int real;       - 2\n",
    "    int img;        - 2\n",
    "                   ------\n",
    "                    4 bytes (assuming int is 2)\n",
    "}\n",
    "```\n"
   ]
  },
  {
   "cell_type": "markdown",
   "metadata": {},
   "source": []
  },
  {
   "cell_type": "markdown",
   "metadata": {},
   "source": [
    "* Consider\n",
    "\n",
    "```c\n",
    "struct Card{\n",
    "  int face;         - 2\n",
    "  int shape;        - 2\n",
    "  int color;        - 2\n",
    "                  ---------\n",
    "                   6 bytes\n",
    "}\n",
    "\n",
    "int main(){\n",
    "  struct Card c = {1,0, 0};  // will initialize |1|0|0| in stack memory.\n",
    "  \n",
    "  // if we want to  declare array of struct, we ca \n",
    "  struct Card deck[52];\n",
    "  // OR\n",
    "  struct Card deck[52] = {{1,0,0}, {2,0,0},....};\n",
    "  \n",
    "  // To access the card, we can\n",
    "  printf(\"%d is shape of card no. 1\", deck[1].shape)\n",
    "}\n",
    "```\n"
   ]
  },
  {
   "cell_type": "markdown",
   "metadata": {},
   "source": []
  },
  {
   "cell_type": "markdown",
   "metadata": {},
   "source": [
    "* Consider details of Students. We can create structure as \n",
    "```c\n",
    "struct Student{\n",
    "    int roll;         - 2\n",
    "    char name[25];    - 25\n",
    "    char dept[10];    - 10\n",
    "    char address[50]; - 50\n",
    "                    ---------\n",
    "                      87 bytes\n",
    "}\n",
    "```"
   ]
  },
  {
   "cell_type": "markdown",
   "metadata": {},
   "source": []
  }
 ],
 "metadata": {
  "language_info": {
   "name": "python"
  },
  "orig_nbformat": 4
 },
 "nbformat": 4,
 "nbformat_minor": 2
}
