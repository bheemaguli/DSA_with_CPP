{
 "cells": [
  {
   "cell_type": "markdown",
   "metadata": {},
   "source": [
    "\n",
    "Memory Layout is as shown:"
   ]
  },
  {
   "cell_type": "markdown",
   "metadata": {},
   "source": [
    "![Memory Layout](Sketches/memory-layout-in-c.png)"
   ]
  },
  {
   "cell_type": "markdown",
   "metadata": {},
   "source": [
    "When array, say A[5] is declared, a section of Stack Memory section provides necessary space to hold 5 values."
   ]
  },
  {
   "cell_type": "markdown",
   "metadata": {},
   "source": [
    "```c\n",
    "int main()\n",
    "{\n",
    "    int A[5];\n",
    "    int B[5] = {2,4,6,8,10};\n",
    "    int i;\n",
    "    for (i=0; i<5; i++)\n",
    "    {\n",
    "        printf(\"%d\", B[i]);\n",
    "    }\n",
    "}\n",
    "```"
   ]
  },
  {
   "cell_type": "markdown",
   "metadata": {},
   "source": [
    "> Here, `A[5]` array is initialized without any value. Thus, if we try to find values in A, it will have random values.\n",
    "\n",
    "> **Initializing atleast one array element will reset other values to zero.**\n",
    "\n",
    "\n",
    "```c\n",
    "#include<stdio.h>\n",
    "\n",
    "int main()\n",
    "{\n",
    "    int A[5];\n",
    "    for (int i=0; i<5; i++)\n",
    "    {\n",
    "        printf(\"%d,\", A[i]);\n",
    "    }\n",
    "}\n",
    "```\n",
    "\n",
    "\n",
    "```console\n",
    "[Running] 'test.c'\n",
    "1186752441,32767,100,0,4096,\n",
    "[Done] exited with code=0 in 0.043 seconds\n",
    "```"
   ]
  },
  {
   "cell_type": "markdown",
   "metadata": {},
   "source": [
    "> `B[5]` is initialized with specific value, and thus, its output will have provided values\n",
    "```c\n",
    "#include<stdio.h>\n",
    "\n",
    "int main()\n",
    "{\n",
    "    int B[5] = {2,4,6,8,10};\n",
    "    for (int i=0; i<5; i++)\n",
    "    {\n",
    "        printf(\"%d,\", B[i]);\n",
    "    }\n",
    "}\n",
    "```\n",
    "```console\n",
    "[Running] 'test.c'\n",
    "2,4,6,8,10,\n",
    "[Done] exited with code=0 in 0.049 seconds\n"
   ]
  }
 ],
 "metadata": {
  "language_info": {
   "name": "python"
  },
  "orig_nbformat": 4
 },
 "nbformat": 4,
 "nbformat_minor": 2
}
