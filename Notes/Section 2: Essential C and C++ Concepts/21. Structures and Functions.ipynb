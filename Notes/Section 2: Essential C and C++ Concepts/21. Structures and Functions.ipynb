{
 "cells": [
  {
   "cell_type": "markdown",
   "metadata": {},
   "source": [
    "```c\n",
    "struct Rectangle{\n",
    "    int length, breadth;\n",
    "}\n",
    "\n",
    "// Accessing value declared in main \n",
    "void initialize(struct Rectangle *r, int l, int b){\n",
    "    r->length = l;\n",
    "    r->breadth = b;\n",
    "}\n",
    "\n",
    "// Creating local copy of value passed from main\n",
    "int area(struct Rectangle r){\n",
    "    return r.length*r.breadth;\n",
    "}\n",
    "\n",
    "// Accessing value declared in main\n",
    "void changeLength(struct Rectangle *r, int l){\n",
    "    r->length = l;\n",
    "}\n",
    "\n",
    "// Everythong is processed with help of function in main\n",
    "int main(){\n",
    "    struct Rectangle r;\n",
    "    initialize(&r, 10, 5);\n",
    "    area(r);\n",
    "    changeLength(&r, 20);\n",
    "}\n",
    "``` "
   ]
  }
 ],
 "metadata": {
  "language_info": {
   "name": "python"
  },
  "orig_nbformat": 4
 },
 "nbformat": 4,
 "nbformat_minor": 2
}
