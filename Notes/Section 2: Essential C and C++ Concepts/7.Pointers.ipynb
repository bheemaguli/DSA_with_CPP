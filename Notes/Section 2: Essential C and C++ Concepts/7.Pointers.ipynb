{
 "cells": [
  {
   "cell_type": "markdown",
   "metadata": {},
   "source": [
    "Pointer are address variable.\n",
    "\n",
    "![Pointers](Sketches/How-Pointer-Works-In-C.png)"
   ]
  },
  {
   "cell_type": "markdown",
   "metadata": {},
   "source": [
    "```c\n",
    "#include<stdlib.h>\n",
    "\n",
    "int main(){\n",
    "    int a=10;\n",
    "    int *p;\n",
    "    p = &a;\n",
    "\n",
    "    printf(\"%d is same as %d\", a, *p);\n",
    "\n",
    "    // In C\n",
    "    p = (int *)malloc(s*sizeif(int));.\n",
    "\n",
    "    // In C++\n",
    "    p = new int[5]; \n",
    "}\n",
    "\n",
    "```"
   ]
  }
 ],
 "metadata": {
  "language_info": {
   "name": "python"
  },
  "orig_nbformat": 4
 },
 "nbformat": 4,
 "nbformat_minor": 2
}
