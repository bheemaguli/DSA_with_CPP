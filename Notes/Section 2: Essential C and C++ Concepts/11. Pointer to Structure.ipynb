{
 "cells": [
  {
   "cell_type": "markdown",
   "metadata": {},
   "source": [
    "```c\n",
    "struct Rectangle{\n",
    "    int length;\n",
    "    int breadth;\n",
    "};\n",
    "\n",
    "int main(){\n",
    "\n",
    "    // Static Pointer\n",
    "    struct Rectangle r={10,5};\n",
    "    struct Rectangle *p=&r\n",
    "\n",
    "    r.length = 15;\n",
    "    // Will be same as\n",
    "    (*p).length = 20;\n",
    "    // Will be same as\n",
    "    p -> length = 20;   # with c\n",
    "\n",
    "\n",
    "\n",
    "    // Dynamic Pointer\n",
    "    struct REctangle *s;\n",
    "    s = (struct REctangle *)malloc(sizeof(struct Rectangle));\n",
    "    s -> length = 10;\n",
    "    s -> breadth = 15;\n",
    "}"
   ]
  }
 ],
 "metadata": {
  "language_info": {
   "name": "python"
  },
  "orig_nbformat": 4
 },
 "nbformat": 4,
 "nbformat_minor": 2
}
