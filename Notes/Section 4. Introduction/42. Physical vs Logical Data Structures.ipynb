{
 "cells": [
  {
   "cell_type": "markdown",
   "metadata": {},
   "source": [
    "|Physical Data Structures|Logical Data Structures|\n",
    "|-----|-----|\n",
    "|Ment for storing data|Uses Physical datastructures to do operations|"
   ]
  },
  {
   "cell_type": "markdown",
   "metadata": {},
   "source": [
    "## Physical Data Structures\n",
    "\n",
    "### 1. Array\n",
    "* Created in stack\n",
    "* Size is fixed\n",
    "\n",
    "```console\n",
    "    ☐ ☐ ☐ ☐ ☐ ☐☐☐☐☐☐☐☐\n",
    "    0  1 2 ....\n",
    "```\n",
    "\n",
    "### 2. Linked List\n",
    "* Created in heap\n",
    "* variable size\n",
    "\n",
    "```console    \n",
    "    Head\n",
    "    ▼\n",
    "    ☐☐➔☐☐➔☐☐➔☐☐➔☐☐➔☐☐\n",
    "```\n",
    "<br><br>"
   ]
  },
  {
   "cell_type": "markdown",
   "metadata": {},
   "source": [
    "## Logical Data Structures\n",
    "\n",
    "```console\n",
    "// Linear\n",
    "1. Stack\n",
    "    * Operation is of LIFO\n",
    "2. Queues\n",
    "    * Operation is of FIFO\n",
    "\n",
    "// Non Linear\n",
    "3. Trees\n",
    "    * Organized in hierarchy\n",
    "4. Graph\n",
    "    * Organized in hierarchy\n",
    "    \n",
    "// Tabular\n",
    "5. Hash Table\n",
    "```"
   ]
  }
 ],
 "metadata": {
  "language_info": {
   "name": "python"
  },
  "orig_nbformat": 4
 },
 "nbformat": 4,
 "nbformat_minor": 2
}
