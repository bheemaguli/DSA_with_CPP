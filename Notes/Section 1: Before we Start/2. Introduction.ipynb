{
 "cells": [
  {
   "cell_type": "markdown",
   "metadata": {},
   "source": [
    "# What is Data Structures?\n",
    "**Ans:** Data structure is a data organization, management, and storage format that enables efficient access and modification.\n",
    "```         \n",
    "            ﹍﹍﹍\n",
    "            | C |\n",
    "            | P |\n",
    "            | U |\n",
    "            ﹉﹉﹉\n",
    "              ↑\n",
    "``` "
   ]
  },
  {
   "cell_type": "markdown",
   "metadata": {},
   "source": []
  }
 ],
 "metadata": {
  "language_info": {
   "name": "python"
  },
  "orig_nbformat": 4
 },
 "nbformat": 4,
 "nbformat_minor": 2
}
