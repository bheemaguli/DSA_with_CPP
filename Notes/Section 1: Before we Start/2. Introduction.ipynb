{
 "cells": [
  {
   "cell_type": "markdown",
   "metadata": {},
   "source": [
    "## What is Data Structures?\n",
    "**Ans:** Data structure is a data organization, management, and storage format that enables efficient access and modification.\n",
    "```         \n",
    "            ﹍﹍﹍\n",
    "            | C |\n",
    "            | P |\n",
    "            | U |\n",
    "            ﹉﹉﹉\n",
    "              ↑\n",
    "        ﹍﹍﹍﹍﹍﹍﹍﹍﹍\n",
    "        |             |\n",
    "        |             |\n",
    "        |    Data     |\n",
    "        |             |\n",
    "        |             |\n",
    "        ---------------\n",
    "        |             |\n",
    "        |   Program   |\n",
    "        |    Code     |\n",
    "        ﹉﹉﹉﹉﹉﹉﹉﹉﹉\n",
    "``` \n",
    "Best arrangement/utilization of Data in the memory section represented above is done with help of Data Structures"
   ]
  },
  {
   "cell_type": "markdown",
   "metadata": {},
   "source": [
    "## What are different Data Structures?\n",
    "**Ans:** \n",
    "\n",
    "Physical Data Structures (*Defines Arrangement of data*)\n",
    "* Arrays\n",
    "* Matrices      \n",
    "* Linked List\n",
    "\n",
    "Logical Data Structures (*Defines utilizations*)\n",
    "* Stack\n",
    "* Queue\n",
    "* Trees\n",
    "* Graph\n",
    "* Hashing"
   ]
  },
  {
   "cell_type": "markdown",
   "metadata": {},
   "source": [
    "## Other Topics\n",
    "* Recursion\n",
    "* Sorting"
   ]
  }
 ],
 "metadata": {
  "language_info": {
   "name": "python"
  },
  "orig_nbformat": 4
 },
 "nbformat": 4,
 "nbformat_minor": 2
}
